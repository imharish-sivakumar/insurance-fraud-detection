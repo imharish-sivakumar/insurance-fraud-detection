{
  "cells": [
    {
      "cell_type": "code",
      "execution_count": 2,
      "id": "initial_id",
      "metadata": {
        "collapsed": true,
        "id": "initial_id"
      },
      "outputs": [],
      "source": [
        "import pandas as pd\n",
        "import numpy as np\n",
        "from sklearn.model_selection import train_test_split\n",
        "from sklearn.ensemble import RandomForestClassifier\n",
        "from sklearn.metrics import classification_report, confusion_matrix, roc_auc_score, accuracy_score\n",
        "import joblib"
      ]
    },
    {
      "cell_type": "code",
      "source": [
        "# Load the dataset\n",
        "data = pd.read_csv('fraud_detection.csv')"
      ],
      "metadata": {
        "id": "BfHkTohyCka0"
      },
      "id": "BfHkTohyCka0",
      "execution_count": 3,
      "outputs": []
    },
    {
      "cell_type": "code",
      "source": [
        "data"
      ],
      "metadata": {
        "colab": {
          "base_uri": "https://localhost:8080/",
          "height": 444
        },
        "id": "SObedYUU9npf",
        "outputId": "bbbc4a30-3ec3-4c3f-95ad-a82f61c5385a"
      },
      "id": "SObedYUU9npf",
      "execution_count": 4,
      "outputs": [
        {
          "output_type": "execute_result",
          "data": {
            "text/plain": [
              "     months_as_customer  age  policy_number     policy_bind_date policy_state  \\\n",
              "0                   328   48         521585  2014-10-17 00:00:00           OH   \n",
              "1                   228   42         342868  2006-06-27 00:00:00           IN   \n",
              "2                   134   29         687698  2000-09-06 00:00:00           OH   \n",
              "3                   256   41         227811  1990-05-25 00:00:00           IL   \n",
              "4                   228   44         367455  2014-06-06 00:00:00           IL   \n",
              "..                  ...  ...            ...                  ...          ...   \n",
              "995                   3   38         941851  1991-07-16 00:00:00           OH   \n",
              "996                 285   41         186934  2014-01-05 00:00:00           IL   \n",
              "997                 130   34         918516  2003-02-17 00:00:00           OH   \n",
              "998                 458   62         533940  2011-11-18 00:00:00           IL   \n",
              "999                 456   60         556080  1996-11-11 00:00:00           OH   \n",
              "\n",
              "    policy_csl  policy_deductable  policy_annual_premium  umbrella_limit  \\\n",
              "0      250/500               1000                1406.91               0   \n",
              "1      250/500               2000                1197.22         5000000   \n",
              "2      100/300               2000                1413.14         5000000   \n",
              "3      250/500               2000                1415.74         6000000   \n",
              "4     500/1000               1000                1583.91         6000000   \n",
              "..         ...                ...                    ...             ...   \n",
              "995   500/1000               1000                1310.80               0   \n",
              "996    100/300               1000                1436.79               0   \n",
              "997    250/500                500                1383.49         3000000   \n",
              "998   500/1000               2000                1356.92         5000000   \n",
              "999    250/500               1000                 766.19               0   \n",
              "\n",
              "     insured_zip  ... witnesses police_report_available total_claim_amount  \\\n",
              "0         466132  ...         2                     YES              71610   \n",
              "1         468176  ...         0                       ?               5070   \n",
              "2         430632  ...         3                      NO              34650   \n",
              "3         608117  ...         2                      NO              63400   \n",
              "4         610706  ...         1                      NO               6500   \n",
              "..           ...  ...       ...                     ...                ...   \n",
              "995       431289  ...         1                       ?              87200   \n",
              "996       608177  ...         3                       ?             108480   \n",
              "997       442797  ...         3                     YES              67500   \n",
              "998       441714  ...         1                     YES              46980   \n",
              "999       612260  ...         3                       ?               5060   \n",
              "\n",
              "    injury_claim property_claim  vehicle_claim   auto_make auto_model  \\\n",
              "0           6510          13020          52080        Saab        92x   \n",
              "1            780            780           3510    Mercedes       E400   \n",
              "2           7700           3850          23100       Dodge        RAM   \n",
              "3           6340           6340          50720   Chevrolet      Tahoe   \n",
              "4           1300            650           4550      Accura        RSX   \n",
              "..           ...            ...            ...         ...        ...   \n",
              "995        17440           8720          61040       Honda     Accord   \n",
              "996        18080          18080          72320  Volkswagen     Passat   \n",
              "997         7500           7500          52500      Suburu    Impreza   \n",
              "998         5220           5220          36540        Audi         A5   \n",
              "999          460            920           3680    Mercedes       E400   \n",
              "\n",
              "    auto_year fraud_reported  \n",
              "0        2004              Y  \n",
              "1        2007              Y  \n",
              "2        2007              N  \n",
              "3        2014              Y  \n",
              "4        2009              N  \n",
              "..        ...            ...  \n",
              "995      2006              N  \n",
              "996      2015              N  \n",
              "997      1996              N  \n",
              "998      1998              N  \n",
              "999      2007              N  \n",
              "\n",
              "[1000 rows x 39 columns]"
            ],
            "text/html": [
              "\n",
              "  <div id=\"df-f17a5e89-5202-4378-8dd7-f229bd4ba8fd\" class=\"colab-df-container\">\n",
              "    <div>\n",
              "<style scoped>\n",
              "    .dataframe tbody tr th:only-of-type {\n",
              "        vertical-align: middle;\n",
              "    }\n",
              "\n",
              "    .dataframe tbody tr th {\n",
              "        vertical-align: top;\n",
              "    }\n",
              "\n",
              "    .dataframe thead th {\n",
              "        text-align: right;\n",
              "    }\n",
              "</style>\n",
              "<table border=\"1\" class=\"dataframe\">\n",
              "  <thead>\n",
              "    <tr style=\"text-align: right;\">\n",
              "      <th></th>\n",
              "      <th>months_as_customer</th>\n",
              "      <th>age</th>\n",
              "      <th>policy_number</th>\n",
              "      <th>policy_bind_date</th>\n",
              "      <th>policy_state</th>\n",
              "      <th>policy_csl</th>\n",
              "      <th>policy_deductable</th>\n",
              "      <th>policy_annual_premium</th>\n",
              "      <th>umbrella_limit</th>\n",
              "      <th>insured_zip</th>\n",
              "      <th>...</th>\n",
              "      <th>witnesses</th>\n",
              "      <th>police_report_available</th>\n",
              "      <th>total_claim_amount</th>\n",
              "      <th>injury_claim</th>\n",
              "      <th>property_claim</th>\n",
              "      <th>vehicle_claim</th>\n",
              "      <th>auto_make</th>\n",
              "      <th>auto_model</th>\n",
              "      <th>auto_year</th>\n",
              "      <th>fraud_reported</th>\n",
              "    </tr>\n",
              "  </thead>\n",
              "  <tbody>\n",
              "    <tr>\n",
              "      <th>0</th>\n",
              "      <td>328</td>\n",
              "      <td>48</td>\n",
              "      <td>521585</td>\n",
              "      <td>2014-10-17 00:00:00</td>\n",
              "      <td>OH</td>\n",
              "      <td>250/500</td>\n",
              "      <td>1000</td>\n",
              "      <td>1406.91</td>\n",
              "      <td>0</td>\n",
              "      <td>466132</td>\n",
              "      <td>...</td>\n",
              "      <td>2</td>\n",
              "      <td>YES</td>\n",
              "      <td>71610</td>\n",
              "      <td>6510</td>\n",
              "      <td>13020</td>\n",
              "      <td>52080</td>\n",
              "      <td>Saab</td>\n",
              "      <td>92x</td>\n",
              "      <td>2004</td>\n",
              "      <td>Y</td>\n",
              "    </tr>\n",
              "    <tr>\n",
              "      <th>1</th>\n",
              "      <td>228</td>\n",
              "      <td>42</td>\n",
              "      <td>342868</td>\n",
              "      <td>2006-06-27 00:00:00</td>\n",
              "      <td>IN</td>\n",
              "      <td>250/500</td>\n",
              "      <td>2000</td>\n",
              "      <td>1197.22</td>\n",
              "      <td>5000000</td>\n",
              "      <td>468176</td>\n",
              "      <td>...</td>\n",
              "      <td>0</td>\n",
              "      <td>?</td>\n",
              "      <td>5070</td>\n",
              "      <td>780</td>\n",
              "      <td>780</td>\n",
              "      <td>3510</td>\n",
              "      <td>Mercedes</td>\n",
              "      <td>E400</td>\n",
              "      <td>2007</td>\n",
              "      <td>Y</td>\n",
              "    </tr>\n",
              "    <tr>\n",
              "      <th>2</th>\n",
              "      <td>134</td>\n",
              "      <td>29</td>\n",
              "      <td>687698</td>\n",
              "      <td>2000-09-06 00:00:00</td>\n",
              "      <td>OH</td>\n",
              "      <td>100/300</td>\n",
              "      <td>2000</td>\n",
              "      <td>1413.14</td>\n",
              "      <td>5000000</td>\n",
              "      <td>430632</td>\n",
              "      <td>...</td>\n",
              "      <td>3</td>\n",
              "      <td>NO</td>\n",
              "      <td>34650</td>\n",
              "      <td>7700</td>\n",
              "      <td>3850</td>\n",
              "      <td>23100</td>\n",
              "      <td>Dodge</td>\n",
              "      <td>RAM</td>\n",
              "      <td>2007</td>\n",
              "      <td>N</td>\n",
              "    </tr>\n",
              "    <tr>\n",
              "      <th>3</th>\n",
              "      <td>256</td>\n",
              "      <td>41</td>\n",
              "      <td>227811</td>\n",
              "      <td>1990-05-25 00:00:00</td>\n",
              "      <td>IL</td>\n",
              "      <td>250/500</td>\n",
              "      <td>2000</td>\n",
              "      <td>1415.74</td>\n",
              "      <td>6000000</td>\n",
              "      <td>608117</td>\n",
              "      <td>...</td>\n",
              "      <td>2</td>\n",
              "      <td>NO</td>\n",
              "      <td>63400</td>\n",
              "      <td>6340</td>\n",
              "      <td>6340</td>\n",
              "      <td>50720</td>\n",
              "      <td>Chevrolet</td>\n",
              "      <td>Tahoe</td>\n",
              "      <td>2014</td>\n",
              "      <td>Y</td>\n",
              "    </tr>\n",
              "    <tr>\n",
              "      <th>4</th>\n",
              "      <td>228</td>\n",
              "      <td>44</td>\n",
              "      <td>367455</td>\n",
              "      <td>2014-06-06 00:00:00</td>\n",
              "      <td>IL</td>\n",
              "      <td>500/1000</td>\n",
              "      <td>1000</td>\n",
              "      <td>1583.91</td>\n",
              "      <td>6000000</td>\n",
              "      <td>610706</td>\n",
              "      <td>...</td>\n",
              "      <td>1</td>\n",
              "      <td>NO</td>\n",
              "      <td>6500</td>\n",
              "      <td>1300</td>\n",
              "      <td>650</td>\n",
              "      <td>4550</td>\n",
              "      <td>Accura</td>\n",
              "      <td>RSX</td>\n",
              "      <td>2009</td>\n",
              "      <td>N</td>\n",
              "    </tr>\n",
              "    <tr>\n",
              "      <th>...</th>\n",
              "      <td>...</td>\n",
              "      <td>...</td>\n",
              "      <td>...</td>\n",
              "      <td>...</td>\n",
              "      <td>...</td>\n",
              "      <td>...</td>\n",
              "      <td>...</td>\n",
              "      <td>...</td>\n",
              "      <td>...</td>\n",
              "      <td>...</td>\n",
              "      <td>...</td>\n",
              "      <td>...</td>\n",
              "      <td>...</td>\n",
              "      <td>...</td>\n",
              "      <td>...</td>\n",
              "      <td>...</td>\n",
              "      <td>...</td>\n",
              "      <td>...</td>\n",
              "      <td>...</td>\n",
              "      <td>...</td>\n",
              "      <td>...</td>\n",
              "    </tr>\n",
              "    <tr>\n",
              "      <th>995</th>\n",
              "      <td>3</td>\n",
              "      <td>38</td>\n",
              "      <td>941851</td>\n",
              "      <td>1991-07-16 00:00:00</td>\n",
              "      <td>OH</td>\n",
              "      <td>500/1000</td>\n",
              "      <td>1000</td>\n",
              "      <td>1310.80</td>\n",
              "      <td>0</td>\n",
              "      <td>431289</td>\n",
              "      <td>...</td>\n",
              "      <td>1</td>\n",
              "      <td>?</td>\n",
              "      <td>87200</td>\n",
              "      <td>17440</td>\n",
              "      <td>8720</td>\n",
              "      <td>61040</td>\n",
              "      <td>Honda</td>\n",
              "      <td>Accord</td>\n",
              "      <td>2006</td>\n",
              "      <td>N</td>\n",
              "    </tr>\n",
              "    <tr>\n",
              "      <th>996</th>\n",
              "      <td>285</td>\n",
              "      <td>41</td>\n",
              "      <td>186934</td>\n",
              "      <td>2014-01-05 00:00:00</td>\n",
              "      <td>IL</td>\n",
              "      <td>100/300</td>\n",
              "      <td>1000</td>\n",
              "      <td>1436.79</td>\n",
              "      <td>0</td>\n",
              "      <td>608177</td>\n",
              "      <td>...</td>\n",
              "      <td>3</td>\n",
              "      <td>?</td>\n",
              "      <td>108480</td>\n",
              "      <td>18080</td>\n",
              "      <td>18080</td>\n",
              "      <td>72320</td>\n",
              "      <td>Volkswagen</td>\n",
              "      <td>Passat</td>\n",
              "      <td>2015</td>\n",
              "      <td>N</td>\n",
              "    </tr>\n",
              "    <tr>\n",
              "      <th>997</th>\n",
              "      <td>130</td>\n",
              "      <td>34</td>\n",
              "      <td>918516</td>\n",
              "      <td>2003-02-17 00:00:00</td>\n",
              "      <td>OH</td>\n",
              "      <td>250/500</td>\n",
              "      <td>500</td>\n",
              "      <td>1383.49</td>\n",
              "      <td>3000000</td>\n",
              "      <td>442797</td>\n",
              "      <td>...</td>\n",
              "      <td>3</td>\n",
              "      <td>YES</td>\n",
              "      <td>67500</td>\n",
              "      <td>7500</td>\n",
              "      <td>7500</td>\n",
              "      <td>52500</td>\n",
              "      <td>Suburu</td>\n",
              "      <td>Impreza</td>\n",
              "      <td>1996</td>\n",
              "      <td>N</td>\n",
              "    </tr>\n",
              "    <tr>\n",
              "      <th>998</th>\n",
              "      <td>458</td>\n",
              "      <td>62</td>\n",
              "      <td>533940</td>\n",
              "      <td>2011-11-18 00:00:00</td>\n",
              "      <td>IL</td>\n",
              "      <td>500/1000</td>\n",
              "      <td>2000</td>\n",
              "      <td>1356.92</td>\n",
              "      <td>5000000</td>\n",
              "      <td>441714</td>\n",
              "      <td>...</td>\n",
              "      <td>1</td>\n",
              "      <td>YES</td>\n",
              "      <td>46980</td>\n",
              "      <td>5220</td>\n",
              "      <td>5220</td>\n",
              "      <td>36540</td>\n",
              "      <td>Audi</td>\n",
              "      <td>A5</td>\n",
              "      <td>1998</td>\n",
              "      <td>N</td>\n",
              "    </tr>\n",
              "    <tr>\n",
              "      <th>999</th>\n",
              "      <td>456</td>\n",
              "      <td>60</td>\n",
              "      <td>556080</td>\n",
              "      <td>1996-11-11 00:00:00</td>\n",
              "      <td>OH</td>\n",
              "      <td>250/500</td>\n",
              "      <td>1000</td>\n",
              "      <td>766.19</td>\n",
              "      <td>0</td>\n",
              "      <td>612260</td>\n",
              "      <td>...</td>\n",
              "      <td>3</td>\n",
              "      <td>?</td>\n",
              "      <td>5060</td>\n",
              "      <td>460</td>\n",
              "      <td>920</td>\n",
              "      <td>3680</td>\n",
              "      <td>Mercedes</td>\n",
              "      <td>E400</td>\n",
              "      <td>2007</td>\n",
              "      <td>N</td>\n",
              "    </tr>\n",
              "  </tbody>\n",
              "</table>\n",
              "<p>1000 rows × 39 columns</p>\n",
              "</div>\n",
              "    <div class=\"colab-df-buttons\">\n",
              "\n",
              "  <div class=\"colab-df-container\">\n",
              "    <button class=\"colab-df-convert\" onclick=\"convertToInteractive('df-f17a5e89-5202-4378-8dd7-f229bd4ba8fd')\"\n",
              "            title=\"Convert this dataframe to an interactive table.\"\n",
              "            style=\"display:none;\">\n",
              "\n",
              "  <svg xmlns=\"http://www.w3.org/2000/svg\" height=\"24px\" viewBox=\"0 -960 960 960\">\n",
              "    <path d=\"M120-120v-720h720v720H120Zm60-500h600v-160H180v160Zm220 220h160v-160H400v160Zm0 220h160v-160H400v160ZM180-400h160v-160H180v160Zm440 0h160v-160H620v160ZM180-180h160v-160H180v160Zm440 0h160v-160H620v160Z\"/>\n",
              "  </svg>\n",
              "    </button>\n",
              "\n",
              "  <style>\n",
              "    .colab-df-container {\n",
              "      display:flex;\n",
              "      gap: 12px;\n",
              "    }\n",
              "\n",
              "    .colab-df-convert {\n",
              "      background-color: #E8F0FE;\n",
              "      border: none;\n",
              "      border-radius: 50%;\n",
              "      cursor: pointer;\n",
              "      display: none;\n",
              "      fill: #1967D2;\n",
              "      height: 32px;\n",
              "      padding: 0 0 0 0;\n",
              "      width: 32px;\n",
              "    }\n",
              "\n",
              "    .colab-df-convert:hover {\n",
              "      background-color: #E2EBFA;\n",
              "      box-shadow: 0px 1px 2px rgba(60, 64, 67, 0.3), 0px 1px 3px 1px rgba(60, 64, 67, 0.15);\n",
              "      fill: #174EA6;\n",
              "    }\n",
              "\n",
              "    .colab-df-buttons div {\n",
              "      margin-bottom: 4px;\n",
              "    }\n",
              "\n",
              "    [theme=dark] .colab-df-convert {\n",
              "      background-color: #3B4455;\n",
              "      fill: #D2E3FC;\n",
              "    }\n",
              "\n",
              "    [theme=dark] .colab-df-convert:hover {\n",
              "      background-color: #434B5C;\n",
              "      box-shadow: 0px 1px 3px 1px rgba(0, 0, 0, 0.15);\n",
              "      filter: drop-shadow(0px 1px 2px rgba(0, 0, 0, 0.3));\n",
              "      fill: #FFFFFF;\n",
              "    }\n",
              "  </style>\n",
              "\n",
              "    <script>\n",
              "      const buttonEl =\n",
              "        document.querySelector('#df-f17a5e89-5202-4378-8dd7-f229bd4ba8fd button.colab-df-convert');\n",
              "      buttonEl.style.display =\n",
              "        google.colab.kernel.accessAllowed ? 'block' : 'none';\n",
              "\n",
              "      async function convertToInteractive(key) {\n",
              "        const element = document.querySelector('#df-f17a5e89-5202-4378-8dd7-f229bd4ba8fd');\n",
              "        const dataTable =\n",
              "          await google.colab.kernel.invokeFunction('convertToInteractive',\n",
              "                                                    [key], {});\n",
              "        if (!dataTable) return;\n",
              "\n",
              "        const docLinkHtml = 'Like what you see? Visit the ' +\n",
              "          '<a target=\"_blank\" href=https://colab.research.google.com/notebooks/data_table.ipynb>data table notebook</a>'\n",
              "          + ' to learn more about interactive tables.';\n",
              "        element.innerHTML = '';\n",
              "        dataTable['output_type'] = 'display_data';\n",
              "        await google.colab.output.renderOutput(dataTable, element);\n",
              "        const docLink = document.createElement('div');\n",
              "        docLink.innerHTML = docLinkHtml;\n",
              "        element.appendChild(docLink);\n",
              "      }\n",
              "    </script>\n",
              "  </div>\n",
              "\n",
              "\n",
              "<div id=\"df-5de3d7ee-be53-46a0-b221-29865fb25ce9\">\n",
              "  <button class=\"colab-df-quickchart\" onclick=\"quickchart('df-5de3d7ee-be53-46a0-b221-29865fb25ce9')\"\n",
              "            title=\"Suggest charts\"\n",
              "            style=\"display:none;\">\n",
              "\n",
              "<svg xmlns=\"http://www.w3.org/2000/svg\" height=\"24px\"viewBox=\"0 0 24 24\"\n",
              "     width=\"24px\">\n",
              "    <g>\n",
              "        <path d=\"M19 3H5c-1.1 0-2 .9-2 2v14c0 1.1.9 2 2 2h14c1.1 0 2-.9 2-2V5c0-1.1-.9-2-2-2zM9 17H7v-7h2v7zm4 0h-2V7h2v10zm4 0h-2v-4h2v4z\"/>\n",
              "    </g>\n",
              "</svg>\n",
              "  </button>\n",
              "\n",
              "<style>\n",
              "  .colab-df-quickchart {\n",
              "      --bg-color: #E8F0FE;\n",
              "      --fill-color: #1967D2;\n",
              "      --hover-bg-color: #E2EBFA;\n",
              "      --hover-fill-color: #174EA6;\n",
              "      --disabled-fill-color: #AAA;\n",
              "      --disabled-bg-color: #DDD;\n",
              "  }\n",
              "\n",
              "  [theme=dark] .colab-df-quickchart {\n",
              "      --bg-color: #3B4455;\n",
              "      --fill-color: #D2E3FC;\n",
              "      --hover-bg-color: #434B5C;\n",
              "      --hover-fill-color: #FFFFFF;\n",
              "      --disabled-bg-color: #3B4455;\n",
              "      --disabled-fill-color: #666;\n",
              "  }\n",
              "\n",
              "  .colab-df-quickchart {\n",
              "    background-color: var(--bg-color);\n",
              "    border: none;\n",
              "    border-radius: 50%;\n",
              "    cursor: pointer;\n",
              "    display: none;\n",
              "    fill: var(--fill-color);\n",
              "    height: 32px;\n",
              "    padding: 0;\n",
              "    width: 32px;\n",
              "  }\n",
              "\n",
              "  .colab-df-quickchart:hover {\n",
              "    background-color: var(--hover-bg-color);\n",
              "    box-shadow: 0 1px 2px rgba(60, 64, 67, 0.3), 0 1px 3px 1px rgba(60, 64, 67, 0.15);\n",
              "    fill: var(--button-hover-fill-color);\n",
              "  }\n",
              "\n",
              "  .colab-df-quickchart-complete:disabled,\n",
              "  .colab-df-quickchart-complete:disabled:hover {\n",
              "    background-color: var(--disabled-bg-color);\n",
              "    fill: var(--disabled-fill-color);\n",
              "    box-shadow: none;\n",
              "  }\n",
              "\n",
              "  .colab-df-spinner {\n",
              "    border: 2px solid var(--fill-color);\n",
              "    border-color: transparent;\n",
              "    border-bottom-color: var(--fill-color);\n",
              "    animation:\n",
              "      spin 1s steps(1) infinite;\n",
              "  }\n",
              "\n",
              "  @keyframes spin {\n",
              "    0% {\n",
              "      border-color: transparent;\n",
              "      border-bottom-color: var(--fill-color);\n",
              "      border-left-color: var(--fill-color);\n",
              "    }\n",
              "    20% {\n",
              "      border-color: transparent;\n",
              "      border-left-color: var(--fill-color);\n",
              "      border-top-color: var(--fill-color);\n",
              "    }\n",
              "    30% {\n",
              "      border-color: transparent;\n",
              "      border-left-color: var(--fill-color);\n",
              "      border-top-color: var(--fill-color);\n",
              "      border-right-color: var(--fill-color);\n",
              "    }\n",
              "    40% {\n",
              "      border-color: transparent;\n",
              "      border-right-color: var(--fill-color);\n",
              "      border-top-color: var(--fill-color);\n",
              "    }\n",
              "    60% {\n",
              "      border-color: transparent;\n",
              "      border-right-color: var(--fill-color);\n",
              "    }\n",
              "    80% {\n",
              "      border-color: transparent;\n",
              "      border-right-color: var(--fill-color);\n",
              "      border-bottom-color: var(--fill-color);\n",
              "    }\n",
              "    90% {\n",
              "      border-color: transparent;\n",
              "      border-bottom-color: var(--fill-color);\n",
              "    }\n",
              "  }\n",
              "</style>\n",
              "\n",
              "  <script>\n",
              "    async function quickchart(key) {\n",
              "      const quickchartButtonEl =\n",
              "        document.querySelector('#' + key + ' button');\n",
              "      quickchartButtonEl.disabled = true;  // To prevent multiple clicks.\n",
              "      quickchartButtonEl.classList.add('colab-df-spinner');\n",
              "      try {\n",
              "        const charts = await google.colab.kernel.invokeFunction(\n",
              "            'suggestCharts', [key], {});\n",
              "      } catch (error) {\n",
              "        console.error('Error during call to suggestCharts:', error);\n",
              "      }\n",
              "      quickchartButtonEl.classList.remove('colab-df-spinner');\n",
              "      quickchartButtonEl.classList.add('colab-df-quickchart-complete');\n",
              "    }\n",
              "    (() => {\n",
              "      let quickchartButtonEl =\n",
              "        document.querySelector('#df-5de3d7ee-be53-46a0-b221-29865fb25ce9 button');\n",
              "      quickchartButtonEl.style.display =\n",
              "        google.colab.kernel.accessAllowed ? 'block' : 'none';\n",
              "    })();\n",
              "  </script>\n",
              "</div>\n",
              "\n",
              "  <div id=\"id_4fe26ff9-1d4c-44dd-b9f7-1764a85822fb\">\n",
              "    <style>\n",
              "      .colab-df-generate {\n",
              "        background-color: #E8F0FE;\n",
              "        border: none;\n",
              "        border-radius: 50%;\n",
              "        cursor: pointer;\n",
              "        display: none;\n",
              "        fill: #1967D2;\n",
              "        height: 32px;\n",
              "        padding: 0 0 0 0;\n",
              "        width: 32px;\n",
              "      }\n",
              "\n",
              "      .colab-df-generate:hover {\n",
              "        background-color: #E2EBFA;\n",
              "        box-shadow: 0px 1px 2px rgba(60, 64, 67, 0.3), 0px 1px 3px 1px rgba(60, 64, 67, 0.15);\n",
              "        fill: #174EA6;\n",
              "      }\n",
              "\n",
              "      [theme=dark] .colab-df-generate {\n",
              "        background-color: #3B4455;\n",
              "        fill: #D2E3FC;\n",
              "      }\n",
              "\n",
              "      [theme=dark] .colab-df-generate:hover {\n",
              "        background-color: #434B5C;\n",
              "        box-shadow: 0px 1px 3px 1px rgba(0, 0, 0, 0.15);\n",
              "        filter: drop-shadow(0px 1px 2px rgba(0, 0, 0, 0.3));\n",
              "        fill: #FFFFFF;\n",
              "      }\n",
              "    </style>\n",
              "    <button class=\"colab-df-generate\" onclick=\"generateWithVariable('data')\"\n",
              "            title=\"Generate code using this dataframe.\"\n",
              "            style=\"display:none;\">\n",
              "\n",
              "  <svg xmlns=\"http://www.w3.org/2000/svg\" height=\"24px\"viewBox=\"0 0 24 24\"\n",
              "       width=\"24px\">\n",
              "    <path d=\"M7,19H8.4L18.45,9,17,7.55,7,17.6ZM5,21V16.75L18.45,3.32a2,2,0,0,1,2.83,0l1.4,1.43a1.91,1.91,0,0,1,.58,1.4,1.91,1.91,0,0,1-.58,1.4L9.25,21ZM18.45,9,17,7.55Zm-12,3A5.31,5.31,0,0,0,4.9,8.1,5.31,5.31,0,0,0,1,6.5,5.31,5.31,0,0,0,4.9,4.9,5.31,5.31,0,0,0,6.5,1,5.31,5.31,0,0,0,8.1,4.9,5.31,5.31,0,0,0,12,6.5,5.46,5.46,0,0,0,6.5,12Z\"/>\n",
              "  </svg>\n",
              "    </button>\n",
              "    <script>\n",
              "      (() => {\n",
              "      const buttonEl =\n",
              "        document.querySelector('#id_4fe26ff9-1d4c-44dd-b9f7-1764a85822fb button.colab-df-generate');\n",
              "      buttonEl.style.display =\n",
              "        google.colab.kernel.accessAllowed ? 'block' : 'none';\n",
              "\n",
              "      buttonEl.onclick = () => {\n",
              "        google.colab.notebook.generateWithVariable('data');\n",
              "      }\n",
              "      })();\n",
              "    </script>\n",
              "  </div>\n",
              "\n",
              "    </div>\n",
              "  </div>\n"
            ],
            "application/vnd.google.colaboratory.intrinsic+json": {
              "type": "dataframe",
              "variable_name": "data"
            }
          },
          "metadata": {},
          "execution_count": 4
        }
      ]
    },
    {
      "cell_type": "code",
      "source": [
        "# Handle missing values or invalid placeholders\n",
        "data.replace('?', np.nan, inplace=True)"
      ],
      "metadata": {
        "id": "zuei2RmCCkNz"
      },
      "id": "zuei2RmCCkNz",
      "execution_count": 5,
      "outputs": []
    },
    {
      "cell_type": "code",
      "source": [
        "# Drop columns with too many missing values (if any)\n",
        "data.dropna(axis=1, thresh=len(data) * 0.9, inplace=True)"
      ],
      "metadata": {
        "id": "zQHFWaQGCkHZ"
      },
      "id": "zQHFWaQGCkHZ",
      "execution_count": 6,
      "outputs": []
    },
    {
      "cell_type": "code",
      "source": [
        "\n",
        "# Fill missing values with the mean for numeric columns and mode for categorical columns\n",
        "for col in data.select_dtypes(include=['float64', 'int64']).columns:\n",
        "    data[col] = data[col].fillna(data[col].mean())\n",
        "for col in data.select_dtypes(include=['object']).columns:\n",
        "    data[col] = data[col].fillna(data[col].mode()[0])"
      ],
      "metadata": {
        "id": "kLw44t35CkAb"
      },
      "id": "kLw44t35CkAb",
      "execution_count": 7,
      "outputs": []
    },
    {
      "cell_type": "code",
      "source": [
        "# Convert date columns to datetime\n",
        "data['policy_bind_date'] = pd.to_datetime(data['policy_bind_date'], errors='coerce')\n",
        "data['incident_date'] = pd.to_datetime(data['incident_date'], errors='coerce')"
      ],
      "metadata": {
        "id": "A5NNyN2ACj3W"
      },
      "id": "A5NNyN2ACj3W",
      "execution_count": 8,
      "outputs": []
    },
    {
      "cell_type": "code",
      "source": [
        "# Feature engineering\n",
        "data['policy_to_incident_days'] = (data['incident_date'] - data['policy_bind_date']).dt.days\n",
        "data['total_claim_ratio'] = (data['injury_claim'] + data['property_claim'] + data['vehicle_claim']) / data['total_claim_amount']"
      ],
      "metadata": {
        "id": "0HVnYUxaCtgF"
      },
      "id": "0HVnYUxaCtgF",
      "execution_count": 9,
      "outputs": []
    },
    {
      "cell_type": "code",
      "source": [
        "# Encoding categorical variables\n",
        "categorical_columns = ['policy_state', 'policy_csl', 'insured_sex', 'insured_education_level',\n",
        "                       'insured_occupation', 'insured_hobbies', 'insured_relationship',\n",
        "                       'incident_type', 'collision_type', 'incident_severity', 'authorities_contacted',\n",
        "                       'incident_state', 'incident_city', 'auto_make', 'auto_model']"
      ],
      "metadata": {
        "id": "tvzl0VUtCtcQ"
      },
      "id": "tvzl0VUtCtcQ",
      "execution_count": 10,
      "outputs": []
    },
    {
      "cell_type": "code",
      "source": [
        "# Keep only columns that exist in the dataset\n",
        "categorical_columns = [col for col in categorical_columns if col in data.columns]"
      ],
      "metadata": {
        "id": "Fqr6c8jOCtYN"
      },
      "id": "Fqr6c8jOCtYN",
      "execution_count": 11,
      "outputs": []
    },
    {
      "cell_type": "code",
      "source": [
        "# Apply one-hot encoding\n",
        "data = pd.get_dummies(data, columns=categorical_columns, drop_first=True)"
      ],
      "metadata": {
        "id": "jL8pcOtGCtUb"
      },
      "id": "jL8pcOtGCtUb",
      "execution_count": 12,
      "outputs": []
    },
    {
      "cell_type": "code",
      "source": [
        "# Label encoding for fraud\n",
        "if 'fraud_reported' in data.columns:\n",
        "    data['fraud_reported'] = data['fraud_reported'].apply(lambda x: 1 if x == 'Y' else 0)"
      ],
      "metadata": {
        "id": "FOdF9FcnDVJa"
      },
      "id": "FOdF9FcnDVJa",
      "execution_count": 13,
      "outputs": []
    },
    {
      "cell_type": "code",
      "source": [
        "# Drop unnecessary columns and split dataset\n",
        "X = data.drop(['fraud_reported', 'policy_bind_date', 'incident_date', 'incident_location'], axis=1, errors='ignore')\n",
        "y = data['fraud_reported']\n",
        "X_train, X_test, y_train, y_test = train_test_split(X, y, test_size=0.3, random_state=42)"
      ],
      "metadata": {
        "id": "xxRuPeNEDVGF"
      },
      "id": "xxRuPeNEDVGF",
      "execution_count": 14,
      "outputs": []
    },
    {
      "cell_type": "markdown",
      "source": [
        "# **Random Forest Classifier**\n"
      ],
      "metadata": {
        "id": "X0_DAbidEVcM"
      },
      "id": "X0_DAbidEVcM"
    },
    {
      "cell_type": "code",
      "source": [
        "from sklearn.ensemble import RandomForestClassifier\n",
        "from sklearn.metrics import confusion_matrix, classification_report, roc_auc_score\n",
        "import joblib\n",
        "import numpy as np\n",
        "import matplotlib.pyplot as plt"
      ],
      "metadata": {
        "id": "OmJt3mxvjB_n"
      },
      "id": "OmJt3mxvjB_n",
      "execution_count": 56,
      "outputs": []
    },
    {
      "cell_type": "code",
      "source": [
        "rf_model = RandomForestClassifier(random_state=42)\n",
        "rf_model.fit(X_train, y_train)\n",
        "y_pred_rf = rf_model.predict(X_test)\n",
        "rf_accuracy = accuracy_score(y_test, y_pred_rf)\n",
        "rf_auc = roc_auc_score(y_test, rf_model.predict_proba(X_test)[:, 1])"
      ],
      "metadata": {
        "id": "HN7YXshbjBwe"
      },
      "id": "HN7YXshbjBwe",
      "execution_count": 57,
      "outputs": []
    },
    {
      "cell_type": "code",
      "source": [
        "print(\"Confusion Matrix:\\n\", confusion_matrix(y_test, y_pred_rf))\n",
        "print(\"\\nClassification Report:\\n\", classification_report(y_test, y_pred_rf))\n",
        "print(\"\\nROC AUC Score:\", rf_auc)"
      ],
      "metadata": {
        "colab": {
          "base_uri": "https://localhost:8080/"
        },
        "id": "SEpJyZlijBsC",
        "outputId": "6c53b851-7409-47dc-a14b-7b83c6e5e78c"
      },
      "id": "SEpJyZlijBsC",
      "execution_count": 58,
      "outputs": [
        {
          "output_type": "stream",
          "name": "stdout",
          "text": [
            "Confusion Matrix:\n",
            " [[215   5]\n",
            " [ 74   6]]\n",
            "\n",
            "Classification Report:\n",
            "               precision    recall  f1-score   support\n",
            "\n",
            "           0       0.74      0.98      0.84       220\n",
            "           1       0.55      0.07      0.13        80\n",
            "\n",
            "    accuracy                           0.74       300\n",
            "   macro avg       0.64      0.53      0.49       300\n",
            "weighted avg       0.69      0.74      0.65       300\n",
            "\n",
            "\n",
            "ROC AUC Score: 0.8325\n"
          ]
        }
      ]
    },
    {
      "cell_type": "code",
      "source": [
        "importances = rf_model.feature_importances_\n",
        "indices = np.argsort(importances)[::-1]\n",
        "print(\"\\nTop 10 Important Features:\")\n",
        "for i in range(min(10, len(indices))):\n",
        "    print(f\"Feature {indices[i]}: Importance {importances[indices[i]]:.4f}\")"
      ],
      "metadata": {
        "colab": {
          "base_uri": "https://localhost:8080/"
        },
        "id": "Ugb2xRhbjGFj",
        "outputId": "9788f91b-ce12-40a1-c6f3-8131c955d4e6"
      },
      "id": "Ugb2xRhbjGFj",
      "execution_count": 59,
      "outputs": [
        {
          "output_type": "stream",
          "name": "stdout",
          "text": [
            "\n",
            "Top 10 Important Features:\n",
            "Feature 72: Importance 0.0548\n",
            "Feature 71: Importance 0.0479\n",
            "Feature 48: Importance 0.0444\n",
            "Feature 15: Importance 0.0410\n",
            "Feature 16: Importance 0.0356\n",
            "Feature 4: Importance 0.0355\n",
            "Feature 13: Importance 0.0354\n",
            "Feature 6: Importance 0.0351\n",
            "Feature 14: Importance 0.0327\n",
            "Feature 2: Importance 0.0323\n"
          ]
        }
      ]
    },
    {
      "cell_type": "code",
      "source": [
        "joblib.dump(rf_model, \"rf_model.pkl\")\n",
        "print(\"Random Forest model saved as rf_model.pkl\")"
      ],
      "metadata": {
        "colab": {
          "base_uri": "https://localhost:8080/"
        },
        "id": "NS1rLmMdjKOv",
        "outputId": "514bb9d5-a6c2-4f36-9aa2-c5a7bc6c25c0"
      },
      "id": "NS1rLmMdjKOv",
      "execution_count": 60,
      "outputs": [
        {
          "output_type": "stream",
          "name": "stdout",
          "text": [
            "Random Forest model saved as rf_model.pkl\n"
          ]
        }
      ]
    },
    {
      "cell_type": "code",
      "source": [
        "sample_rf = X_test.iloc[:1]\n",
        "loaded_rf = joblib.load(\"rf_model.pkl\")\n",
        "pred_rf = loaded_rf.predict(sample_rf)\n",
        "print(f\"Random Forest Sample Prediction: {'Fraud' if pred_rf[0] == 1 else 'Not Fraud'}\")"
      ],
      "metadata": {
        "colab": {
          "base_uri": "https://localhost:8080/"
        },
        "id": "l5QWAPrfmUtD",
        "outputId": "ae2ece7e-9232-443b-9343-29a1b2f68f51"
      },
      "id": "l5QWAPrfmUtD",
      "execution_count": 61,
      "outputs": [
        {
          "output_type": "stream",
          "name": "stdout",
          "text": [
            "Random Forest Sample Prediction: Not Fraud\n"
          ]
        }
      ]
    },
    {
      "cell_type": "markdown",
      "source": [
        "# **Logistic Regression**"
      ],
      "metadata": {
        "id": "MOv9lwRREeG8"
      },
      "id": "MOv9lwRREeG8"
    },
    {
      "cell_type": "code",
      "source": [
        "from sklearn.linear_model import LogisticRegression\n",
        "from sklearn.preprocessing import StandardScaler\n",
        "import joblib"
      ],
      "metadata": {
        "id": "DvXlUURnjjF8"
      },
      "id": "DvXlUURnjjF8",
      "execution_count": 62,
      "outputs": []
    },
    {
      "cell_type": "code",
      "source": [
        "scaler = StandardScaler()\n",
        "X_train_scaled = scaler.fit_transform(X_train)\n",
        "X_test_scaled = scaler.transform(X_test)"
      ],
      "metadata": {
        "id": "WwDtegohjjCn"
      },
      "id": "WwDtegohjjCn",
      "execution_count": 63,
      "outputs": []
    },
    {
      "cell_type": "code",
      "source": [
        "log_model = LogisticRegression(max_iter=1000, random_state=42)\n",
        "log_model.fit(X_train_scaled, y_train)\n",
        "y_pred_log = log_model.predict(X_test_scaled)\n",
        "log_accuracy = accuracy_score(y_test, y_pred_log)\n",
        "log_auc = roc_auc_score(y_test, log_model.predict_proba(X_test_scaled)[:, 1])\n"
      ],
      "metadata": {
        "id": "VMuM_OT2ji_h"
      },
      "id": "VMuM_OT2ji_h",
      "execution_count": 64,
      "outputs": []
    },
    {
      "cell_type": "code",
      "source": [
        "y_pred_log = log_model.predict(X_test_scaled)"
      ],
      "metadata": {
        "id": "43Tb2gAoji5J"
      },
      "id": "43Tb2gAoji5J",
      "execution_count": 32,
      "outputs": []
    },
    {
      "cell_type": "code",
      "source": [
        "print(\"Logistic Regression Results\")\n",
        "print(\"Accuracy:\", accuracy_score(y_test, y_pred_log))\n",
        "print(\"Classification Report:\\n\", classification_report(y_test, y_pred_log))\n",
        "print(\"ROC AUC Score:\", roc_auc_score(y_test, log_model.predict_proba(X_test_scaled)[:, 1]))"
      ],
      "metadata": {
        "colab": {
          "base_uri": "https://localhost:8080/"
        },
        "id": "L5Q-CD2dj-vO",
        "outputId": "f52c1a41-2bdf-4d97-da81-54c38c9056b4"
      },
      "id": "L5Q-CD2dj-vO",
      "execution_count": 33,
      "outputs": [
        {
          "output_type": "stream",
          "name": "stdout",
          "text": [
            "Logistic Regression Results\n",
            "Accuracy: 0.72\n",
            "Classification Report:\n",
            "               precision    recall  f1-score   support\n",
            "\n",
            "           0       0.80      0.83      0.81       220\n",
            "           1       0.47      0.42      0.45        80\n",
            "\n",
            "    accuracy                           0.72       300\n",
            "   macro avg       0.64      0.63      0.63       300\n",
            "weighted avg       0.71      0.72      0.72       300\n",
            "\n",
            "ROC AUC Score: 0.7373295454545455\n"
          ]
        }
      ]
    },
    {
      "cell_type": "code",
      "source": [
        "joblib.dump(log_model, \"logistic_model.pkl\")\n",
        "print(\"Logistic Regression model saved as logistic_model.pkl\")"
      ],
      "metadata": {
        "colab": {
          "base_uri": "https://localhost:8080/"
        },
        "id": "nJ9JNDsFj-rs",
        "outputId": "b038c788-492c-459f-cd66-3fb7124fd9b3"
      },
      "id": "nJ9JNDsFj-rs",
      "execution_count": 66,
      "outputs": [
        {
          "output_type": "stream",
          "name": "stdout",
          "text": [
            "Logistic Regression model saved as logistic_model.pkl\n"
          ]
        }
      ]
    },
    {
      "cell_type": "code",
      "source": [
        "sample_log = X_test_scaled[:1]\n",
        "loaded_log = joblib.load(\"logistic_model.pkl\")\n",
        "pred_log = loaded_log.predict(sample_log)\n",
        "print(f\"Logistic Regression Sample Prediction: {'Fraud' if pred_log[0] == 1 else 'Not Fraud'}\")"
      ],
      "metadata": {
        "colab": {
          "base_uri": "https://localhost:8080/"
        },
        "id": "Hy4roxmSj-oS",
        "outputId": "9047a1ed-b6f5-4cea-8119-3eafa7358b29"
      },
      "id": "Hy4roxmSj-oS",
      "execution_count": 67,
      "outputs": [
        {
          "output_type": "stream",
          "name": "stdout",
          "text": [
            "Logistic Regression Sample Prediction: Not Fraud\n"
          ]
        }
      ]
    },
    {
      "cell_type": "markdown",
      "source": [
        "# **XG Boosting**"
      ],
      "metadata": {
        "id": "W6pDaTI7Lm4j"
      },
      "id": "W6pDaTI7Lm4j"
    },
    {
      "cell_type": "code",
      "source": [
        "from xgboost import XGBClassifier\n",
        "import joblib"
      ],
      "metadata": {
        "id": "8px8z-O5lV8N"
      },
      "id": "8px8z-O5lV8N",
      "execution_count": 36,
      "outputs": []
    },
    {
      "cell_type": "code",
      "source": [
        "xgb = XGBClassifier(eval_metric=\"logloss\", scale_pos_weight=3)\n",
        "xgb.fit(X_train, y_train)\n",
        "y_pred_xgb = xgb.predict(X_test)\n",
        "xgb_accuracy = accuracy_score(y_test, y_pred_xgb)\n",
        "xgb_auc = roc_auc_score(y_test, xgb.predict_proba(X_test)[:, 1])"
      ],
      "metadata": {
        "id": "OWsGSdLilV4l"
      },
      "id": "OWsGSdLilV4l",
      "execution_count": 68,
      "outputs": []
    },
    {
      "cell_type": "code",
      "source": [
        "y_pred_xgb = xgb.predict(X_test)"
      ],
      "metadata": {
        "id": "BDLqV_2llV2T"
      },
      "id": "BDLqV_2llV2T",
      "execution_count": 69,
      "outputs": []
    },
    {
      "cell_type": "code",
      "source": [
        "print(\"--- XGBoost Results ---\")\n",
        "print(f\"Accuracy: {xgb_accuracy}\")\n",
        "print(f\"Classification Report:\\n{classification_report(y_test, y_pred_xgb)}\")\n",
        "print(\"ROC AUC Score:\", xgb_auc)"
      ],
      "metadata": {
        "colab": {
          "base_uri": "https://localhost:8080/"
        },
        "id": "mxewHByMlVyz",
        "outputId": "d7ad909f-f696-4ae3-ce46-55ba786977c4"
      },
      "id": "mxewHByMlVyz",
      "execution_count": 70,
      "outputs": [
        {
          "output_type": "stream",
          "name": "stdout",
          "text": [
            "--- XGBoost Results ---\n",
            "Accuracy: 0.78\n",
            "Classification Report:\n",
            "              precision    recall  f1-score   support\n",
            "\n",
            "           0       0.83      0.87      0.85       220\n",
            "           1       0.60      0.53      0.56        80\n",
            "\n",
            "    accuracy                           0.78       300\n",
            "   macro avg       0.72      0.70      0.71       300\n",
            "weighted avg       0.77      0.78      0.78       300\n",
            "\n",
            "ROC AUC Score: 0.8229545454545455\n"
          ]
        }
      ]
    },
    {
      "cell_type": "code",
      "source": [
        "joblib.dump(xgb, \"xgb_model.pkl\")\n",
        "print(\"XGBoost model saved as xgb_model.pkl\")"
      ],
      "metadata": {
        "colab": {
          "base_uri": "https://localhost:8080/"
        },
        "id": "_OkkH9AMlVvJ",
        "outputId": "5e851139-46df-41cd-adeb-827eeddfcebf"
      },
      "id": "_OkkH9AMlVvJ",
      "execution_count": 40,
      "outputs": [
        {
          "output_type": "stream",
          "name": "stdout",
          "text": [
            "XGBoost model saved as xgb_model.pkl\n"
          ]
        }
      ]
    },
    {
      "cell_type": "code",
      "source": [
        "sample_xgb = X_test.iloc[:1]\n",
        "loaded_xgb = joblib.load(\"xgb_model.pkl\")\n",
        "pred_xgb = loaded_xgb.predict(sample_xgb)\n",
        "print(f\"XGBoost Sample Prediction: {'Fraud' if pred_xgb[0] == 1 else 'Not Fraud'}\")\n"
      ],
      "metadata": {
        "colab": {
          "base_uri": "https://localhost:8080/"
        },
        "id": "Sr3zkh6RlVsS",
        "outputId": "16c3d508-c431-4114-f76e-1698259e3f10"
      },
      "id": "Sr3zkh6RlVsS",
      "execution_count": 71,
      "outputs": [
        {
          "output_type": "stream",
          "name": "stdout",
          "text": [
            "XGBoost Sample Prediction: Not Fraud\n"
          ]
        }
      ]
    },
    {
      "cell_type": "markdown",
      "source": [
        "# **Naive Bayes**"
      ],
      "metadata": {
        "id": "oy03_c2VLtfq"
      },
      "id": "oy03_c2VLtfq"
    },
    {
      "cell_type": "code",
      "source": [
        "from sklearn.naive_bayes import GaussianNB\n",
        "import joblib"
      ],
      "metadata": {
        "id": "HxU6SXrVllXg"
      },
      "id": "HxU6SXrVllXg",
      "execution_count": 42,
      "outputs": []
    },
    {
      "cell_type": "code",
      "source": [
        "nb = GaussianNB()\n",
        "nb.fit(X_train, y_train)\n",
        "y_pred_nb = nb.predict(X_test)\n",
        "nb_accuracy = accuracy_score(y_test, y_pred_nb)\n",
        "nb_auc = roc_auc_score(y_test, nb.predict_proba(X_test)[:, 1])"
      ],
      "metadata": {
        "id": "ndHQBO0ZllUq"
      },
      "id": "ndHQBO0ZllUq",
      "execution_count": 72,
      "outputs": []
    },
    {
      "cell_type": "code",
      "source": [
        "y_pred_nb = nb.predict(X_test)"
      ],
      "metadata": {
        "id": "eXunEnggllSK"
      },
      "id": "eXunEnggllSK",
      "execution_count": 73,
      "outputs": []
    },
    {
      "cell_type": "code",
      "source": [
        "print(\"Results: Naive Bayes\")\n",
        "print(\"Accuracy: \", nb_accuracy)\n",
        "print(\"Classification Report:\\n\", classification_report(y_test, y_pred_nb))\n",
        "print(\"ROC AUC Score:\", nb_auc)"
      ],
      "metadata": {
        "colab": {
          "base_uri": "https://localhost:8080/"
        },
        "id": "o5UI5kS6llOI",
        "outputId": "7661c505-fc36-40d1-f99e-07072e59e919"
      },
      "id": "o5UI5kS6llOI",
      "execution_count": 74,
      "outputs": [
        {
          "output_type": "stream",
          "name": "stdout",
          "text": [
            "Results: Naive Bayes\n",
            "Accuracy:  0.68\n",
            "Classification Report:\n",
            "               precision    recall  f1-score   support\n",
            "\n",
            "           0       0.73      0.89      0.80       220\n",
            "           1       0.25      0.10      0.14        80\n",
            "\n",
            "    accuracy                           0.68       300\n",
            "   macro avg       0.49      0.50      0.47       300\n",
            "weighted avg       0.60      0.68      0.63       300\n",
            "\n",
            "ROC AUC Score: 0.5868749999999999\n"
          ]
        }
      ]
    },
    {
      "cell_type": "code",
      "source": [
        "joblib.dump(nb, \"naive_bayes_model.pkl\")\n",
        "print(\"Naive Bayes model saved as naive_bayes_model.pkl\")"
      ],
      "metadata": {
        "colab": {
          "base_uri": "https://localhost:8080/"
        },
        "id": "xS5tV8ZIllLW",
        "outputId": "ae91430b-a4c9-4a2d-d243-c8d758921b6a"
      },
      "id": "xS5tV8ZIllLW",
      "execution_count": 46,
      "outputs": [
        {
          "output_type": "stream",
          "name": "stdout",
          "text": [
            "Naive Bayes model saved as naive_bayes_model.pkl\n"
          ]
        }
      ]
    },
    {
      "cell_type": "code",
      "source": [
        "sample_nb = X_test.iloc[:1]\n",
        "loaded_nb = joblib.load(\"naive_bayes_model.pkl\")\n",
        "pred_nb = loaded_nb.predict(sample_nb)\n",
        "print(f\"Naive Bayes Sample Prediction: {'Fraud' if pred_nb[0] == 1 else 'Not Fraud'}\")\n"
      ],
      "metadata": {
        "colab": {
          "base_uri": "https://localhost:8080/"
        },
        "id": "L4rrVuOWllIf",
        "outputId": "61eda263-066a-4bc9-85b6-f5c14d8ad705"
      },
      "id": "L4rrVuOWllIf",
      "execution_count": 75,
      "outputs": [
        {
          "output_type": "stream",
          "name": "stdout",
          "text": [
            "Naive Bayes Sample Prediction: Not Fraud\n"
          ]
        }
      ]
    },
    {
      "cell_type": "markdown",
      "source": [
        "# **KNN Classification**"
      ],
      "metadata": {
        "id": "LI7VIzTuL0nK"
      },
      "id": "LI7VIzTuL0nK"
    },
    {
      "cell_type": "code",
      "source": [
        "from sklearn.neighbors import KNeighborsClassifier\n",
        "import joblib"
      ],
      "metadata": {
        "id": "KiENkvuAl0Iv"
      },
      "id": "KiENkvuAl0Iv",
      "execution_count": 48,
      "outputs": []
    },
    {
      "cell_type": "code",
      "source": [
        "knn = KNeighborsClassifier(n_neighbors=5)\n",
        "knn.fit(X_train_scaled, y_train)\n",
        "y_pred_knn = knn.predict(X_test_scaled)\n",
        "knn_accuracy = accuracy_score(y_test, y_pred_knn)\n",
        "knn_auc = roc_auc_score(y_test, knn.predict_proba(X_test_scaled)[:, 1])"
      ],
      "metadata": {
        "id": "ABMQTdeWl0Ge"
      },
      "id": "ABMQTdeWl0Ge",
      "execution_count": 76,
      "outputs": []
    },
    {
      "cell_type": "code",
      "source": [
        "y_pred_knn = knn.predict(X_test_scaled)"
      ],
      "metadata": {
        "id": "LybiYFXwl0E7"
      },
      "id": "LybiYFXwl0E7",
      "execution_count": 77,
      "outputs": []
    },
    {
      "cell_type": "code",
      "source": [
        "print(\"KNN Classification\")\n",
        "print(f\"Accuracy Score: {knn_accuracy}\")\n",
        "print(\"Classification Report:\\n{classification_report(y_test, y_pred_knn)}\")\n",
        "print(\"ROC AUC Score:\", knn_auc)"
      ],
      "metadata": {
        "colab": {
          "base_uri": "https://localhost:8080/"
        },
        "id": "-stp50Kbl0Ag",
        "outputId": "e239543b-9eec-483c-b270-1cdaaabfec89"
      },
      "id": "-stp50Kbl0Ag",
      "execution_count": 78,
      "outputs": [
        {
          "output_type": "stream",
          "name": "stdout",
          "text": [
            "KNN Classification\n",
            "Accuracy Score: 0.6733333333333333\n",
            "Classification Report:\n",
            "{classification_report(y_test, y_pred_knn)}\n",
            "ROC AUC Score: 0.48872159090909095\n"
          ]
        }
      ]
    },
    {
      "cell_type": "code",
      "source": [
        "joblib.dump(knn, \"knn_model.pkl\")\n",
        "print(\"K-Nearest Neighbors model saved as knn_model.pkl\")"
      ],
      "metadata": {
        "colab": {
          "base_uri": "https://localhost:8080/"
        },
        "id": "0tTdr8w7lz9Y",
        "outputId": "56b188f9-6a5c-4ff3-befd-ef9127abf0b7"
      },
      "id": "0tTdr8w7lz9Y",
      "execution_count": 52,
      "outputs": [
        {
          "output_type": "stream",
          "name": "stdout",
          "text": [
            "K-Nearest Neighbors model saved as knn_model.pkl\n"
          ]
        }
      ]
    },
    {
      "cell_type": "code",
      "source": [
        "sample_knn = X_test_scaled[:1]\n",
        "loaded_knn = joblib.load(\"knn_model.pkl\")\n",
        "pred_knn = loaded_knn.predict(sample_knn)\n",
        "print(f\"KNN Sample Prediction: {'Fraud' if pred_knn[0] == 1 else 'Not Fraud'}\")"
      ],
      "metadata": {
        "colab": {
          "base_uri": "https://localhost:8080/"
        },
        "id": "M9ncyWbYlz6c",
        "outputId": "71eb865c-2afc-48e5-dee5-6334cc1ff298"
      },
      "id": "M9ncyWbYlz6c",
      "execution_count": 53,
      "outputs": [
        {
          "output_type": "stream",
          "name": "stdout",
          "text": [
            "KNN Sample Prediction: Not Fraud\n"
          ]
        }
      ]
    },
    {
      "cell_type": "markdown",
      "source": [
        "# **Visualization**"
      ],
      "metadata": {
        "id": "EJTzOqkizW1Q"
      },
      "id": "EJTzOqkizW1Q"
    },
    {
      "cell_type": "code",
      "source": [
        "models = ['Random Forest', 'Logistic Regression', 'XGBoost', 'Naive Bayes', 'KNN']\n",
        "accuracies = [rf_accuracy, log_accuracy, xgb_accuracy, nb_accuracy, knn_accuracy]\n",
        "aucs = [rf_auc, log_auc, xgb_auc, nb_auc, knn_auc]"
      ],
      "metadata": {
        "id": "vCoLeCQFw3Pb"
      },
      "id": "vCoLeCQFw3Pb",
      "execution_count": 79,
      "outputs": []
    },
    {
      "cell_type": "code",
      "source": [
        "plt.figure(figsize=(10, 6))"
      ],
      "metadata": {
        "colab": {
          "base_uri": "https://localhost:8080/",
          "height": 53
        },
        "id": "VFKnHNpEw3KJ",
        "outputId": "c2777744-2436-49ec-8ea7-205a680956d6"
      },
      "id": "VFKnHNpEw3KJ",
      "execution_count": 80,
      "outputs": [
        {
          "output_type": "execute_result",
          "data": {
            "text/plain": [
              "<Figure size 1000x600 with 0 Axes>"
            ]
          },
          "metadata": {},
          "execution_count": 80
        },
        {
          "output_type": "display_data",
          "data": {
            "text/plain": [
              "<Figure size 1000x600 with 0 Axes>"
            ]
          },
          "metadata": {}
        }
      ]
    },
    {
      "cell_type": "code",
      "source": [
        "import seaborn as sns\n",
        "metrics = np.array([accuracies, aucs]).T\n",
        "metric_labels = ['Accuracy', 'AUC']\n",
        "\n",
        "plt.figure(figsize=(8, 6))\n",
        "sns.heatmap(metrics, annot=True, fmt=\".4f\", cmap=\"coolwarm\", xticklabels=metric_labels, yticklabels=models, cbar_kws={'label': 'Metric Value'})\n",
        "plt.title(\"Model Performance\")\n",
        "plt.xlabel(\"Metrics\")\n",
        "plt.ylabel(\"Models\")\n",
        "plt.show()\n"
      ],
      "metadata": {
        "colab": {
          "base_uri": "https://localhost:8080/",
          "height": 564
        },
        "id": "uxDvZcB4y5YN",
        "outputId": "d5075058-7691-4c67-c6c2-6b09839b7993"
      },
      "id": "uxDvZcB4y5YN",
      "execution_count": 88,
      "outputs": [
        {
          "output_type": "display_data",
          "data": {
            "text/plain": [
              "<Figure size 800x600 with 2 Axes>"
            ],
            "image/png": "[encoded data removed]"
          },
          "metadata": {}
        }
      ]
    },
    {
      "cell_type": "code",
      "source": [
        "best_model_index = np.argmax(aucs)\n",
        "best_model = models[best_model_index]\n",
        "print(f\"The best model for fraud detection is: {best_model} with an AUC of {aucs[best_model_index]:.4f}\")\n"
      ],
      "metadata": {
        "colab": {
          "base_uri": "https://localhost:8080/"
        },
        "id": "yOSTjzS6yArT",
        "outputId": "ff8f687d-5d58-4b6c-f19a-22ad9089e47b"
      },
      "id": "yOSTjzS6yArT",
      "execution_count": 84,
      "outputs": [
        {
          "output_type": "stream",
          "name": "stdout",
          "text": [
            "The best model for fraud detection is: Random Forest with an AUC of 0.8325\n"
          ]
        }
      ]
    },
    {
      "cell_type": "code",
      "source": [],
      "metadata": {
        "id": "flnhpun3yCap"
      },
      "id": "flnhpun3yCap",
      "execution_count": null,
      "outputs": []
    }
  ],
  "metadata": {
    "kernelspec": {
      "display_name": "Python 3",
      "language": "python",
      "name": "python3"
    },
    "language_info": {
      "codemirror_mode": {
        "name": "ipython",
        "version": 2
      },
      "file_extension": ".py",
      "mimetype": "text/x-python",
      "name": "python",
      "nbconvert_exporter": "python",
      "pygments_lexer": "ipython2",
      "version": "2.7.6"
    },
    "colab": {
      "provenance": []
    }
  },
  "nbformat": 4,
  "nbformat_minor": 5
}